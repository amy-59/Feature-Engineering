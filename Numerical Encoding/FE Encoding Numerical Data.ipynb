{
 "cells": [
  {
   "cell_type": "markdown",
   "id": "73ad633b",
   "metadata": {},
   "source": [
    "<h1 align = 'center'> Encoding Numerical Data</h1>"
   ]
  },
  {
   "cell_type": "markdown",
   "id": "55e4a6c6",
   "metadata": {},
   "source": [
    "- Technique to encode numerical data\n",
    "  1. Discretization(Binning)\n",
    "  2. Binarisation\n",
    "  "
   ]
  },
  {
   "cell_type": "markdown",
   "id": "3df75184",
   "metadata": {},
   "source": [
    "__Discretization__\n",
    "- Discretization is the process of transforming contious variable into discrete variable by creating a set of contiguous intervals that span the range of the variable's value. Discretization is also called binning,\n",
    "- Binning is alternative name for interval"
   ]
  },
  {
   "cell_type": "markdown",
   "id": "19f133ab",
   "metadata": {},
   "source": [
    " #### Why use Binning?"
   ]
  },
  {
   "cell_type": "markdown",
   "id": "a09f7702",
   "metadata": {},
   "source": [
    "1. To handle outliers\n",
    "2. To improve the value spread"
   ]
  },
  {
   "cell_type": "markdown",
   "id": "e8eb6a59",
   "metadata": {},
   "source": [
    "#### Types of Discretization \n"
   ]
  },
  {
   "cell_type": "markdown",
   "id": "f69f4839",
   "metadata": {},
   "source": [
    "1. Unsupervised \n",
    "    - Equal Width Binning(Uniform Binning)\n",
    "    - Equal Frequency(Quantile Binning)\n",
    "    - K-Mean Binning\n",
    "    \n",
    "    \n",
    "2. Supervised \n",
    "    - Descision Tree Binning\n",
    "    \n",
    "    \n",
    "3. Custom Binning"
   ]
  },
  {
   "cell_type": "markdown",
   "id": "08e40c30",
   "metadata": {},
   "source": [
    "__Benifite of Benning__\n",
    "-  Oulier Handle\n",
    "- Value Spread become uniform"
   ]
  },
  {
   "cell_type": "markdown",
   "id": "e0807a42",
   "metadata": {},
   "source": [
    "### Equal Width Binnig (Uniform Binning )"
   ]
  },
  {
   "cell_type": "code",
   "execution_count": 96,
   "id": "13627912",
   "metadata": {},
   "outputs": [],
   "source": [
    "%matplotlib inline\n",
    "import pandas as pd\n",
    "import numpy as np\n",
    "import matplotlib.pyplot as plt\n",
    "import seaborn as sns\n"
   ]
  },
  {
   "cell_type": "code",
   "execution_count": 97,
   "id": "980ce7ce",
   "metadata": {},
   "outputs": [],
   "source": [
    "df = pd.read_csv('titanic_train.csv', usecols=['Age', 'Fare','Survived'])"
   ]
  },
  {
   "cell_type": "code",
   "execution_count": 98,
   "id": "039e0183",
   "metadata": {},
   "outputs": [
    {
     "data": {
      "text/html": [
       "<div>\n",
       "<style scoped>\n",
       "    .dataframe tbody tr th:only-of-type {\n",
       "        vertical-align: middle;\n",
       "    }\n",
       "\n",
       "    .dataframe tbody tr th {\n",
       "        vertical-align: top;\n",
       "    }\n",
       "\n",
       "    .dataframe thead th {\n",
       "        text-align: right;\n",
       "    }\n",
       "</style>\n",
       "<table border=\"1\" class=\"dataframe\">\n",
       "  <thead>\n",
       "    <tr style=\"text-align: right;\">\n",
       "      <th></th>\n",
       "      <th>Survived</th>\n",
       "      <th>Age</th>\n",
       "      <th>Fare</th>\n",
       "    </tr>\n",
       "  </thead>\n",
       "  <tbody>\n",
       "    <tr>\n",
       "      <th>0</th>\n",
       "      <td>0</td>\n",
       "      <td>22.0</td>\n",
       "      <td>7.2500</td>\n",
       "    </tr>\n",
       "    <tr>\n",
       "      <th>1</th>\n",
       "      <td>1</td>\n",
       "      <td>38.0</td>\n",
       "      <td>71.2833</td>\n",
       "    </tr>\n",
       "    <tr>\n",
       "      <th>2</th>\n",
       "      <td>1</td>\n",
       "      <td>26.0</td>\n",
       "      <td>7.9250</td>\n",
       "    </tr>\n",
       "    <tr>\n",
       "      <th>3</th>\n",
       "      <td>1</td>\n",
       "      <td>35.0</td>\n",
       "      <td>53.1000</td>\n",
       "    </tr>\n",
       "    <tr>\n",
       "      <th>4</th>\n",
       "      <td>0</td>\n",
       "      <td>35.0</td>\n",
       "      <td>8.0500</td>\n",
       "    </tr>\n",
       "  </tbody>\n",
       "</table>\n",
       "</div>"
      ],
      "text/plain": [
       "   Survived   Age     Fare\n",
       "0         0  22.0   7.2500\n",
       "1         1  38.0  71.2833\n",
       "2         1  26.0   7.9250\n",
       "3         1  35.0  53.1000\n",
       "4         0  35.0   8.0500"
      ]
     },
     "execution_count": 98,
     "metadata": {},
     "output_type": "execute_result"
    }
   ],
   "source": [
    "df.head()"
   ]
  },
  {
   "cell_type": "code",
   "execution_count": 99,
   "id": "38629256",
   "metadata": {},
   "outputs": [
    {
     "data": {
      "text/plain": [
       "Survived      0\n",
       "Age         177\n",
       "Fare          0\n",
       "dtype: int64"
      ]
     },
     "execution_count": 99,
     "metadata": {},
     "output_type": "execute_result"
    }
   ],
   "source": [
    "df.isnull().sum()"
   ]
  },
  {
   "cell_type": "code",
   "execution_count": 100,
   "id": "8df202d0",
   "metadata": {},
   "outputs": [],
   "source": [
    "df.dropna(inplace=True)"
   ]
  },
  {
   "cell_type": "code",
   "execution_count": 101,
   "id": "72b8094e",
   "metadata": {},
   "outputs": [
    {
     "data": {
      "text/plain": [
       "(714, 3)"
      ]
     },
     "execution_count": 101,
     "metadata": {},
     "output_type": "execute_result"
    }
   ],
   "source": [
    "df.shape"
   ]
  },
  {
   "cell_type": "code",
   "execution_count": 102,
   "id": "b151beac",
   "metadata": {},
   "outputs": [
    {
     "data": {
      "text/html": [
       "<div>\n",
       "<style scoped>\n",
       "    .dataframe tbody tr th:only-of-type {\n",
       "        vertical-align: middle;\n",
       "    }\n",
       "\n",
       "    .dataframe tbody tr th {\n",
       "        vertical-align: top;\n",
       "    }\n",
       "\n",
       "    .dataframe thead th {\n",
       "        text-align: right;\n",
       "    }\n",
       "</style>\n",
       "<table border=\"1\" class=\"dataframe\">\n",
       "  <thead>\n",
       "    <tr style=\"text-align: right;\">\n",
       "      <th></th>\n",
       "      <th>Survived</th>\n",
       "      <th>Age</th>\n",
       "      <th>Fare</th>\n",
       "    </tr>\n",
       "  </thead>\n",
       "  <tbody>\n",
       "    <tr>\n",
       "      <th>0</th>\n",
       "      <td>0</td>\n",
       "      <td>22.0</td>\n",
       "      <td>7.2500</td>\n",
       "    </tr>\n",
       "    <tr>\n",
       "      <th>1</th>\n",
       "      <td>1</td>\n",
       "      <td>38.0</td>\n",
       "      <td>71.2833</td>\n",
       "    </tr>\n",
       "    <tr>\n",
       "      <th>2</th>\n",
       "      <td>1</td>\n",
       "      <td>26.0</td>\n",
       "      <td>7.9250</td>\n",
       "    </tr>\n",
       "    <tr>\n",
       "      <th>3</th>\n",
       "      <td>1</td>\n",
       "      <td>35.0</td>\n",
       "      <td>53.1000</td>\n",
       "    </tr>\n",
       "    <tr>\n",
       "      <th>4</th>\n",
       "      <td>0</td>\n",
       "      <td>35.0</td>\n",
       "      <td>8.0500</td>\n",
       "    </tr>\n",
       "  </tbody>\n",
       "</table>\n",
       "</div>"
      ],
      "text/plain": [
       "   Survived   Age     Fare\n",
       "0         0  22.0   7.2500\n",
       "1         1  38.0  71.2833\n",
       "2         1  26.0   7.9250\n",
       "3         1  35.0  53.1000\n",
       "4         0  35.0   8.0500"
      ]
     },
     "execution_count": 102,
     "metadata": {},
     "output_type": "execute_result"
    }
   ],
   "source": [
    "df.head()"
   ]
  },
  {
   "cell_type": "markdown",
   "id": "e6500d5e",
   "metadata": {},
   "source": [
    "### <font color='Red'> __Without Binning__ </font>"
   ]
  },
  {
   "cell_type": "markdown",
   "id": "4ef51554",
   "metadata": {},
   "source": [
    "### Train TestSplit"
   ]
  },
  {
   "cell_type": "code",
   "execution_count": 103,
   "id": "89298509",
   "metadata": {},
   "outputs": [],
   "source": [
    "from sklearn.model_selection import train_test_split"
   ]
  },
  {
   "cell_type": "code",
   "execution_count": 104,
   "id": "5ece72b9",
   "metadata": {},
   "outputs": [],
   "source": [
    "X= df.iloc[:,1:]\n",
    "y=df.iloc[:,0]"
   ]
  },
  {
   "cell_type": "code",
   "execution_count": 105,
   "id": "26a469c2",
   "metadata": {},
   "outputs": [
    {
     "data": {
      "text/plain": [
       "0      0\n",
       "1      1\n",
       "2      1\n",
       "3      1\n",
       "4      0\n",
       "      ..\n",
       "885    0\n",
       "886    0\n",
       "887    1\n",
       "889    1\n",
       "890    0\n",
       "Name: Survived, Length: 714, dtype: int64"
      ]
     },
     "execution_count": 105,
     "metadata": {},
     "output_type": "execute_result"
    }
   ],
   "source": [
    "y"
   ]
  },
  {
   "cell_type": "code",
   "execution_count": 106,
   "id": "8f1d8c8d",
   "metadata": {},
   "outputs": [],
   "source": [
    "X_train, X_test, y_train, y_test = train_test_split(X, y, test_size=0.2, random_state=42)"
   ]
  },
  {
   "cell_type": "markdown",
   "id": "ffae3ddd",
   "metadata": {},
   "source": [
    "### Train Model with DT"
   ]
  },
  {
   "cell_type": "code",
   "execution_count": 107,
   "id": "8ecdc6d9",
   "metadata": {},
   "outputs": [],
   "source": [
    "from sklearn.tree import DecisionTreeClassifier"
   ]
  },
  {
   "cell_type": "code",
   "execution_count": 108,
   "id": "e34766e7",
   "metadata": {},
   "outputs": [],
   "source": [
    "dt = DecisionTreeClassifier()"
   ]
  },
  {
   "cell_type": "code",
   "execution_count": 109,
   "id": "ffa73c67",
   "metadata": {},
   "outputs": [
    {
     "data": {
      "text/plain": [
       "DecisionTreeClassifier()"
      ]
     },
     "execution_count": 109,
     "metadata": {},
     "output_type": "execute_result"
    }
   ],
   "source": [
    "dt.fit(X_train,y_train)"
   ]
  },
  {
   "cell_type": "code",
   "execution_count": 110,
   "id": "ded57fb4",
   "metadata": {},
   "outputs": [],
   "source": [
    "y_pred = dt.predict(X_test)\n"
   ]
  },
  {
   "cell_type": "markdown",
   "id": "f5ddab60",
   "metadata": {},
   "source": [
    "### Performance Metrics"
   ]
  },
  {
   "cell_type": "code",
   "execution_count": 111,
   "id": "f79abed0",
   "metadata": {},
   "outputs": [],
   "source": [
    "from sklearn.metrics import accuracy_score"
   ]
  },
  {
   "cell_type": "code",
   "execution_count": 112,
   "id": "bcefd699",
   "metadata": {},
   "outputs": [
    {
     "name": "stdout",
     "output_type": "stream",
     "text": [
      "Accuracy of DT:  0.6223776223776224\n"
     ]
    }
   ],
   "source": [
    "print(\"Accuracy of DT: \", accuracy_score(y_test,y_pred))"
   ]
  },
  {
   "cell_type": "markdown",
   "id": "13effa4d",
   "metadata": {},
   "source": [
    "### Cross Validation of DT"
   ]
  },
  {
   "cell_type": "code",
   "execution_count": 113,
   "id": "28df6de5",
   "metadata": {},
   "outputs": [],
   "source": [
    "from sklearn.model_selection import cross_val_score"
   ]
  },
  {
   "cell_type": "code",
   "execution_count": 114,
   "id": "48ec7177",
   "metadata": {},
   "outputs": [
    {
     "data": {
      "text/plain": [
       "0.6359154929577465"
      ]
     },
     "execution_count": 114,
     "metadata": {},
     "output_type": "execute_result"
    }
   ],
   "source": [
    "np.mean(cross_val_score(dt,X,y,cv=10,scoring='accuracy'))"
   ]
  },
  {
   "cell_type": "markdown",
   "id": "38c7abe7",
   "metadata": {},
   "source": [
    "### <font color='Red'> __With Binning__ </font>"
   ]
  },
  {
   "cell_type": "code",
   "execution_count": 115,
   "id": "e2e5808c",
   "metadata": {},
   "outputs": [],
   "source": [
    "from sklearn.preprocessing import KBinsDiscretizer"
   ]
  },
  {
   "cell_type": "markdown",
   "id": "b421f5ad",
   "metadata": {},
   "source": [
    "### Quantile Binnig"
   ]
  },
  {
   "cell_type": "code",
   "execution_count": 116,
   "id": "2db281c4",
   "metadata": {},
   "outputs": [],
   "source": [
    "kbin_age = KBinsDiscretizer(n_bins=15,encode='ordinal', strategy='quantile')\n",
    "kbin_fare = KBinsDiscretizer(n_bins=15,encode='ordinal', strategy='quantile')"
   ]
  },
  {
   "cell_type": "code",
   "execution_count": 117,
   "id": "2eceaa28",
   "metadata": {},
   "outputs": [],
   "source": [
    "from sklearn.compose import ColumnTransformer"
   ]
  },
  {
   "cell_type": "code",
   "execution_count": 118,
   "id": "945aae73",
   "metadata": {},
   "outputs": [],
   "source": [
    "trf =ColumnTransformer([\n",
    "    ('first',kbin_age,[0]),\n",
    "    ('second',kbin_fare,[1])\n",
    "])"
   ]
  },
  {
   "cell_type": "code",
   "execution_count": 119,
   "id": "784156da",
   "metadata": {},
   "outputs": [],
   "source": [
    "X_train_transformed = trf.fit_transform(X_train)\n",
    "X_test_transformed = trf.transform(X_test)"
   ]
  },
  {
   "cell_type": "markdown",
   "id": "90d055d8",
   "metadata": {},
   "source": [
    "### attributes"
   ]
  },
  {
   "cell_type": "code",
   "execution_count": 120,
   "id": "7c593854",
   "metadata": {},
   "outputs": [
    {
     "data": {
      "text/plain": [
       "{'first': KBinsDiscretizer(encode='ordinal', n_bins=15),\n",
       " 'second': KBinsDiscretizer(encode='ordinal', n_bins=15)}"
      ]
     },
     "execution_count": 120,
     "metadata": {},
     "output_type": "execute_result"
    }
   ],
   "source": [
    "trf.named_transformers_"
   ]
  },
  {
   "cell_type": "code",
   "execution_count": 121,
   "id": "b47e2576",
   "metadata": {},
   "outputs": [
    {
     "data": {
      "text/plain": [
       "array([15])"
      ]
     },
     "execution_count": 121,
     "metadata": {},
     "output_type": "execute_result"
    }
   ],
   "source": [
    "trf.named_transformers_['first'].n_bins_"
   ]
  },
  {
   "cell_type": "code",
   "execution_count": 122,
   "id": "06ec0ae9",
   "metadata": {},
   "outputs": [
    {
     "data": {
      "text/plain": [
       "array([array([ 0.42,  6.  , 16.  , 19.  , 21.  , 23.  , 25.  , 28.  , 30.  ,\n",
       "              32.  , 35.  , 38.  , 42.  , 47.  , 54.  , 80.  ])             ],\n",
       "      dtype=object)"
      ]
     },
     "execution_count": 122,
     "metadata": {},
     "output_type": "execute_result"
    }
   ],
   "source": [
    "trf.named_transformers_['first'].bin_edges_"
   ]
  },
  {
   "cell_type": "code",
   "execution_count": 123,
   "id": "cc60ef54",
   "metadata": {},
   "outputs": [
    {
     "data": {
      "text/plain": [
       "array([array([  0.    ,   7.25  ,   7.775 ,   7.8958,   8.1583,  10.5   ,\n",
       "               13.    ,  14.4542,  18.75  ,  26.    ,  26.55  ,  31.275 ,\n",
       "               51.4792,  76.2917, 108.9   , 512.3292])                   ],\n",
       "      dtype=object)"
      ]
     },
     "execution_count": 123,
     "metadata": {},
     "output_type": "execute_result"
    }
   ],
   "source": [
    "trf.named_transformers_['second'].bin_edges_"
   ]
  },
  {
   "cell_type": "code",
   "execution_count": 124,
   "id": "7647432d",
   "metadata": {},
   "outputs": [
    {
     "data": {
      "text/plain": [
       "array([[ 8.,  8.],\n",
       "       [ 6.,  7.],\n",
       "       [ 8.,  7.],\n",
       "       ...,\n",
       "       [11., 14.],\n",
       "       [ 9.,  8.],\n",
       "       [ 9.,  3.]])"
      ]
     },
     "execution_count": 124,
     "metadata": {},
     "output_type": "execute_result"
    }
   ],
   "source": [
    "X_train_transformed"
   ]
  },
  {
   "cell_type": "markdown",
   "id": "fd11b0eb",
   "metadata": {},
   "source": [
    "### Form dataframe"
   ]
  },
  {
   "cell_type": "code",
   "execution_count": 125,
   "id": "94160295",
   "metadata": {},
   "outputs": [],
   "source": [
    "output = pd.DataFrame({\n",
    "    'age':X_train['Age'],\n",
    "    'age_trf':X_train_transformed[:,0],\n",
    "    'fare':X_train['Fare'],\n",
    "    'fare_trf':X_train_transformed[:,1]\n",
    "})"
   ]
  },
  {
   "cell_type": "code",
   "execution_count": 126,
   "id": "36672ec4",
   "metadata": {},
   "outputs": [],
   "source": [
    "output['age_labels'] = pd.cut(x=X_train['Age'],\n",
    "                                    bins=trf.named_transformers_['first'].bin_edges_[0].tolist())\n",
    "output['fare_labels'] = pd.cut(x=X_train['Fare'],\n",
    "                                    bins=trf.named_transformers_['second'].bin_edges_[0].tolist())"
   ]
  },
  {
   "cell_type": "code",
   "execution_count": 127,
   "id": "50ac1dff",
   "metadata": {},
   "outputs": [
    {
     "data": {
      "text/html": [
       "<div>\n",
       "<style scoped>\n",
       "    .dataframe tbody tr th:only-of-type {\n",
       "        vertical-align: middle;\n",
       "    }\n",
       "\n",
       "    .dataframe tbody tr th {\n",
       "        vertical-align: top;\n",
       "    }\n",
       "\n",
       "    .dataframe thead th {\n",
       "        text-align: right;\n",
       "    }\n",
       "</style>\n",
       "<table border=\"1\" class=\"dataframe\">\n",
       "  <thead>\n",
       "    <tr style=\"text-align: right;\">\n",
       "      <th></th>\n",
       "      <th>age</th>\n",
       "      <th>age_trf</th>\n",
       "      <th>fare</th>\n",
       "      <th>fare_trf</th>\n",
       "      <th>age_labels</th>\n",
       "      <th>fare_labels</th>\n",
       "    </tr>\n",
       "  </thead>\n",
       "  <tbody>\n",
       "    <tr>\n",
       "      <th>505</th>\n",
       "      <td>18.0</td>\n",
       "      <td>2.0</td>\n",
       "      <td>108.9000</td>\n",
       "      <td>14.0</td>\n",
       "      <td>(16.0, 19.0]</td>\n",
       "      <td>(76.292, 108.9]</td>\n",
       "    </tr>\n",
       "    <tr>\n",
       "      <th>35</th>\n",
       "      <td>42.0</td>\n",
       "      <td>12.0</td>\n",
       "      <td>52.0000</td>\n",
       "      <td>12.0</td>\n",
       "      <td>(38.0, 42.0]</td>\n",
       "      <td>(51.479, 76.292]</td>\n",
       "    </tr>\n",
       "    <tr>\n",
       "      <th>856</th>\n",
       "      <td>45.0</td>\n",
       "      <td>12.0</td>\n",
       "      <td>164.8667</td>\n",
       "      <td>14.0</td>\n",
       "      <td>(42.0, 47.0]</td>\n",
       "      <td>(108.9, 512.329]</td>\n",
       "    </tr>\n",
       "    <tr>\n",
       "      <th>152</th>\n",
       "      <td>55.5</td>\n",
       "      <td>14.0</td>\n",
       "      <td>8.0500</td>\n",
       "      <td>3.0</td>\n",
       "      <td>(54.0, 80.0]</td>\n",
       "      <td>(7.896, 8.158]</td>\n",
       "    </tr>\n",
       "    <tr>\n",
       "      <th>882</th>\n",
       "      <td>22.0</td>\n",
       "      <td>4.0</td>\n",
       "      <td>10.5167</td>\n",
       "      <td>5.0</td>\n",
       "      <td>(21.0, 23.0]</td>\n",
       "      <td>(10.5, 13.0]</td>\n",
       "    </tr>\n",
       "  </tbody>\n",
       "</table>\n",
       "</div>"
      ],
      "text/plain": [
       "      age  age_trf      fare  fare_trf    age_labels       fare_labels\n",
       "505  18.0      2.0  108.9000      14.0  (16.0, 19.0]   (76.292, 108.9]\n",
       "35   42.0     12.0   52.0000      12.0  (38.0, 42.0]  (51.479, 76.292]\n",
       "856  45.0     12.0  164.8667      14.0  (42.0, 47.0]  (108.9, 512.329]\n",
       "152  55.5     14.0    8.0500       3.0  (54.0, 80.0]    (7.896, 8.158]\n",
       "882  22.0      4.0   10.5167       5.0  (21.0, 23.0]      (10.5, 13.0]"
      ]
     },
     "execution_count": 127,
     "metadata": {},
     "output_type": "execute_result"
    }
   ],
   "source": [
    "output.sample(5)"
   ]
  },
  {
   "cell_type": "markdown",
   "id": "9c187cda",
   "metadata": {},
   "source": [
    "#### Model training with Binning"
   ]
  },
  {
   "cell_type": "code",
   "execution_count": 128,
   "id": "82fe9851",
   "metadata": {},
   "outputs": [],
   "source": [
    "dt= DecisionTreeClassifier()"
   ]
  },
  {
   "cell_type": "code",
   "execution_count": 129,
   "id": "2eb9fe82",
   "metadata": {},
   "outputs": [
    {
     "data": {
      "text/plain": [
       "DecisionTreeClassifier()"
      ]
     },
     "execution_count": 129,
     "metadata": {},
     "output_type": "execute_result"
    }
   ],
   "source": [
    "dt.fit(X_train_transformed,y_train)"
   ]
  },
  {
   "cell_type": "code",
   "execution_count": 130,
   "id": "048bd00b",
   "metadata": {},
   "outputs": [],
   "source": [
    "y_pred = dt.predict(X_test_transformed)"
   ]
  },
  {
   "cell_type": "code",
   "execution_count": 131,
   "id": "59eb5898",
   "metadata": {},
   "outputs": [
    {
     "data": {
      "text/plain": [
       "0.6363636363636364"
      ]
     },
     "execution_count": 131,
     "metadata": {},
     "output_type": "execute_result"
    }
   ],
   "source": [
    "accuracy_score(y_test,y_pred)"
   ]
  },
  {
   "cell_type": "code",
   "execution_count": 133,
   "id": "bc1a3ca2",
   "metadata": {},
   "outputs": [
    {
     "data": {
      "text/plain": [
       "0.6723004694835681"
      ]
     },
     "execution_count": 133,
     "metadata": {},
     "output_type": "execute_result"
    }
   ],
   "source": [
    "dt = DecisionTreeClassifier()\n",
    "x_trf = trf.fit_transform(X)\n",
    "np.mean(cross_val_score(dt,x_trf,y,cv =10,scoring='accuracy'))"
   ]
  },
  {
   "cell_type": "code",
   "execution_count": 134,
   "id": "c5403c10",
   "metadata": {},
   "outputs": [],
   "source": [
    "def discritize(bins,strategy):\n",
    "    kbin_age=KBinsDiscretizer(n_bins=bins,encode = 'ordinal', strategy=strategy)\n",
    "    kbin_fare=KBinsDiscretizer(n_bins=bins,encode = 'ordinal', strategy=strategy)\n",
    "    \n",
    "    trf = ColumnTransformer([\n",
    "        ('first', kbin_age,[0]),\n",
    "        ('second',kbin_fare,[1])\n",
    "    ])\n",
    "    X_trf = trf.fit_transform(X)\n",
    "    print(np.mean(cross_val_score(DecisionTreeClassifier(),X_trf,y,cv=10,scoring='accuracy')))\n",
    "    \n",
    "    plt.figure(figsize=(12,5))\n",
    "    plt.subplot(121)\n",
    "    plt.hist(X['Age'])\n",
    "    plt.title('Before Binning')\n",
    "    \n",
    "    plt.subplot(122)\n",
    "    plt.hist(X_trf[:,0],color='red')\n",
    "    plt.title('After binning')\n",
    "    plt.show()\n",
    "    \n",
    "    plt.figure(figsize=(12,5))\n",
    "    plt.subplot(121)\n",
    "    plt.hist(X['Fare'])\n",
    "    plt.title('Before Binning')\n",
    "    \n",
    "    plt.subplot(122)\n",
    "    plt.hist(X_trf[:,1],color='red')\n",
    "    plt.title('After binning')\n",
    "    plt.show()"
   ]
  },
  {
   "cell_type": "code",
   "execution_count": 135,
   "id": "41e2a8aa",
   "metadata": {
    "scrolled": true
   },
   "outputs": [
    {
     "name": "stderr",
     "output_type": "stream",
     "text": [
      "C:\\Users\\Amruta\\anaconda3\\lib\\site-packages\\sklearn\\cluster\\_kmeans.py:1036: UserWarning: KMeans is known to have a memory leak on Windows with MKL, when there are less chunks than available threads. You can avoid it by setting the environment variable OMP_NUM_THREADS=3.\n",
      "  warnings.warn(\n",
      "C:\\Users\\Amruta\\anaconda3\\lib\\site-packages\\sklearn\\cluster\\_kmeans.py:1036: UserWarning: KMeans is known to have a memory leak on Windows with MKL, when there are less chunks than available threads. You can avoid it by setting the environment variable OMP_NUM_THREADS=3.\n",
      "  warnings.warn(\n"
     ]
    },
    {
     "name": "stdout",
     "output_type": "stream",
     "text": [
      "0.6655320813771518\n"
     ]
    },
    {
     "data": {
      "image/png": "[encoded data removed]",
      "text/plain": [
       "<Figure size 1200x500 with 2 Axes>"
      ]
     },
     "metadata": {},
     "output_type": "display_data"
    },
    {
     "data": {
      "image/png": "[encoded data removed]",
      "text/plain": [
       "<Figure size 1200x500 with 2 Axes>"
      ]
     },
     "metadata": {},
     "output_type": "display_data"
    }
   ],
   "source": [
    "discritize(10,'kmeans')"
   ]
  },
  {
   "cell_type": "markdown",
   "id": "b9c14087",
   "metadata": {},
   "source": [
    "### Custom / Domain Based binnig"
   ]
  },
  {
   "cell_type": "markdown",
   "id": "7aca39c4",
   "metadata": {},
   "source": [
    " - When you have domain knowledge you create your own custom binning usin pandas "
   ]
  },
  {
   "cell_type": "code",
   "execution_count": null,
   "id": "77899ee5",
   "metadata": {},
   "outputs": [],
   "source": []
  }
 ],
 "metadata": {
  "kernelspec": {
   "display_name": "Python 3 (ipykernel)",
   "language": "python",
   "name": "python3"
  },
  "language_info": {
   "codemirror_mode": {
    "name": "ipython",
    "version": 3
   },
   "file_extension": ".py",
   "mimetype": "text/x-python",
   "name": "python",
   "nbconvert_exporter": "python",
   "pygments_lexer": "ipython3",
   "version": "3.9.13"
  }
 },
 "nbformat": 4,
 "nbformat_minor": 5
}
